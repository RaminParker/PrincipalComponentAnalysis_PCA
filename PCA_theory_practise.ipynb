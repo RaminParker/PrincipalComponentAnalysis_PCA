{
  "nbformat": 4,
  "nbformat_minor": 0,
  "metadata": {
    "colab": {
      "name": "PCA_theory_practise",
      "version": "0.3.2",
      "provenance": [],
      "collapsed_sections": [
        "sYZbGbg-H4Tm",
        "vSDvrtU-JWbd",
        "hXVfAZD7ZDqa",
        "d0eNg5GPfStX"
      ],
      "toc_visible": true,
      "include_colab_link": true
    },
    "kernelspec": {
      "name": "python3",
      "display_name": "Python 3"
    }
  },
  "cells": [
    {
      "cell_type": "markdown",
      "metadata": {
        "id": "view-in-github",
        "colab_type": "text"
      },
      "source": [
        "<a href=\"https://colab.research.google.com/github/RaminParker/PrincipalComponentAnalysis_PCA/blob/master/PCA_theory_practise.ipynb\" target=\"_parent\"><img src=\"https://colab.research.google.com/assets/colab-badge.svg\" alt=\"Open In Colab\"/></a>"
      ]
    },
    {
      "cell_type": "markdown",
      "metadata": {
        "id": "2dErh9zq7cbq",
        "colab_type": "text"
      },
      "source": [
        "# Principal Component Analysis"
      ]
    },
    {
      "cell_type": "markdown",
      "metadata": {
        "id": "QdUaq6kCJckn",
        "colab_type": "text"
      },
      "source": [
        "**PCA:** method for reducing the dimensionality of data.\n",
        "\n",
        "**What is it doing:** Data with m-columns (features) is projected into a subspace with m or fewer columns."
      ]
    },
    {
      "cell_type": "code",
      "metadata": {
        "id": "gMtXsByt7aR_",
        "colab_type": "code",
        "colab": {}
      },
      "source": [
        "import numpy as np\n",
        "from numpy import array\n",
        "from numpy import mean\n",
        "from numpy import cov\n",
        "from numpy.linalg import eig\n",
        "\n",
        "\n",
        "from numpy import array\n",
        "from sklearn.decomposition import PCA\n",
        "\n",
        "import matplotlib.pyplot as plt\n",
        "import seaborn as sns; sns.set()"
      ],
      "execution_count": 0,
      "outputs": []
    },
    {
      "cell_type": "markdown",
      "metadata": {
        "id": "sYZbGbg-H4Tm",
        "colab_type": "text"
      },
      "source": [
        "## Manually Calculate Principal Component Analysis"
      ]
    },
    {
      "cell_type": "markdown",
      "metadata": {
        "id": "mVakHR408KDw",
        "colab_type": "text"
      },
      "source": [
        "Define the data of the dataset\n"
      ]
    },
    {
      "cell_type": "code",
      "metadata": {
        "id": "Gur2kEGk7mqg",
        "colab_type": "code",
        "outputId": "3dccf0a8-43c7-41cf-f823-6877b889476c",
        "colab": {
          "base_uri": "https://localhost:8080/",
          "height": 102
        }
      },
      "source": [
        "A = array([[90, 60, 90], [90, 90, 30], [60, 60,60], [60, 60, 90], [30, 30, 30]])\n",
        "print(A)"
      ],
      "execution_count": 0,
      "outputs": [
        {
          "output_type": "stream",
          "text": [
            "[[90 60 90]\n",
            " [90 90 30]\n",
            " [60 60 60]\n",
            " [60 60 90]\n",
            " [30 30 30]]\n"
          ],
          "name": "stdout"
        }
      ]
    },
    {
      "cell_type": "markdown",
      "metadata": {
        "id": "cFfB91f-8sTB",
        "colab_type": "text"
      },
      "source": [
        "Calculate the mean of each column:"
      ]
    },
    {
      "cell_type": "code",
      "metadata": {
        "id": "3-qcfnCq8l4I",
        "colab_type": "code",
        "outputId": "41c31064-9fa2-4b08-e75d-0292f38da321",
        "colab": {
          "base_uri": "https://localhost:8080/",
          "height": 34
        }
      },
      "source": [
        "M=A.mean(0)\n",
        "print(M)"
      ],
      "execution_count": 0,
      "outputs": [
        {
          "output_type": "stream",
          "text": [
            "[66. 60. 60.]\n"
          ],
          "name": "stdout"
        }
      ]
    },
    {
      "cell_type": "markdown",
      "metadata": {
        "id": "3rb1rkibG9UM",
        "colab_type": "text"
      },
      "source": [
        "Center columns by subtracting column means"
      ]
    },
    {
      "cell_type": "code",
      "metadata": {
        "id": "7o9pld787k7X",
        "colab_type": "code",
        "outputId": "5ad8f0e0-9051-454c-c49f-779c07e5844e",
        "colab": {
          "base_uri": "https://localhost:8080/",
          "height": 102
        }
      },
      "source": [
        "C=A-M\n",
        "print(C)"
      ],
      "execution_count": 0,
      "outputs": [
        {
          "output_type": "stream",
          "text": [
            "[[ 24.   0.  30.]\n",
            " [ 24.  30. -30.]\n",
            " [ -6.   0.   0.]\n",
            " [ -6.   0.  30.]\n",
            " [-36. -30. -30.]]\n"
          ],
          "name": "stdout"
        }
      ]
    },
    {
      "cell_type": "markdown",
      "metadata": {
        "id": "3kPm1HH5GuIl",
        "colab_type": "text"
      },
      "source": [
        "Calculate variance-covariance matrix (cross-covariance matrix) of centered matrix"
      ]
    },
    {
      "cell_type": "code",
      "metadata": {
        "id": "tVEb5IhM_QIV",
        "colab_type": "code",
        "outputId": "b7206e5b-5a95-4fdc-9a0d-0b160d5d217f",
        "colab": {
          "base_uri": "https://localhost:8080/",
          "height": 85
        }
      },
      "source": [
        "V=cov(C.T)\n",
        "V\n",
        "print('NumPy cross-covariance matrix: \\n%s' %V)"
      ],
      "execution_count": 0,
      "outputs": [
        {
          "output_type": "stream",
          "text": [
            "NumPy cross-covariance matrix: \n",
            "[[630. 450. 225.]\n",
            " [450. 450.   0.]\n",
            " [225.   0. 900.]]\n"
          ],
          "name": "stdout"
        }
      ]
    },
    {
      "cell_type": "markdown",
      "metadata": {
        "id": "s6bxrI13OwD5",
        "colab_type": "text"
      },
      "source": [
        "If you don't want to use the pre-defined function:"
      ]
    },
    {
      "cell_type": "code",
      "metadata": {
        "id": "V7JEyzwBOp2y",
        "colab_type": "code",
        "colab": {}
      },
      "source": [
        "# mean_vec = np.mean(A, axis=0)\n",
        "# cov_mat = (A - mean_vec).T.dot((A - mean_vec)) / (A.shape[0]-1)\n",
        "# print('Cross-covariance matrix \\n%s' %cov_mat)"
      ],
      "execution_count": 0,
      "outputs": []
    },
    {
      "cell_type": "markdown",
      "metadata": {
        "id": "A6-p7jRUImyQ",
        "colab_type": "text"
      },
      "source": [
        "Obtain the eigenvalues and eigenvectors of the cross-covariance matrix:"
      ]
    },
    {
      "cell_type": "code",
      "metadata": {
        "id": "0Qqv7kDN9wAy",
        "colab_type": "code",
        "outputId": "139a4d31-7e2d-44b9-b15e-d44d4060d074",
        "colab": {
          "base_uri": "https://localhost:8080/",
          "height": 102
        }
      },
      "source": [
        "eigenvalues, eigenvectors = eig(V)\n",
        "\n",
        "print(eigenvalues)\n",
        "print()\n",
        "print(eigenvectors)"
      ],
      "execution_count": 0,
      "outputs": [
        {
          "output_type": "stream",
          "text": [
            "[  56.02457535 1137.5874413   786.38798335]\n",
            "\n",
            "[[ 0.6487899  -0.65580225 -0.3859988 ]\n",
            " [-0.74104991 -0.4291978  -0.51636642]\n",
            " [-0.17296443 -0.62105769  0.7644414 ]]\n"
          ],
          "name": "stdout"
        }
      ]
    },
    {
      "cell_type": "markdown",
      "metadata": {
        "id": "vHw5ZumoQZok",
        "colab_type": "text"
      },
      "source": [
        "Choose the *k* eigenvectors that correspond to the *k* largest eigenvalues (where *k* is the number of dimensions of the new feature subspace) --> then you get the **projection matrix**"
      ]
    },
    {
      "cell_type": "markdown",
      "metadata": {
        "id": "JWwlWb5dI0-T",
        "colab_type": "text"
      },
      "source": [
        "**Projection onto the new feature space:** The eigenvectors and eigenvalues are taken as the principal components and singular values and used to project the original data."
      ]
    },
    {
      "cell_type": "code",
      "metadata": {
        "id": "ykHvHHdIT0g1",
        "colab_type": "code",
        "outputId": "0beea7be-f6fb-49f1-8afb-36e5d6e4736e",
        "colab": {
          "base_uri": "https://localhost:8080/",
          "height": 102
        }
      },
      "source": [
        "Y=C.dot(eigenvectors)\n",
        "print(Y)"
      ],
      "execution_count": 0,
      "outputs": [
        {
          "output_type": "stream",
          "text": [
            "[[ 10.3820247  -34.37098481  13.66927088]\n",
            " [ -1.47160698  -9.98345733 -47.68820559]\n",
            " [ -3.89273939   3.93481353   2.31599277]\n",
            " [ -9.08167225 -14.69691716  25.24923474]\n",
            " [  4.06399392  55.11654576   6.45370719]]\n"
          ],
          "name": "stdout"
        }
      ]
    },
    {
      "cell_type": "markdown",
      "metadata": {
        "id": "vSDvrtU-JWbd",
        "colab_type": "text"
      },
      "source": [
        "## Automatically Calculate Principal Component Analysis"
      ]
    },
    {
      "cell_type": "code",
      "metadata": {
        "id": "CFfAUrvjJuk_",
        "colab_type": "code",
        "outputId": "4ce4f0e5-5a5b-4c78-aac8-38ce4c0c79c7",
        "colab": {
          "base_uri": "https://localhost:8080/",
          "height": 102
        }
      },
      "source": [
        "A = array([[90, 60, 90], [90, 90, 30], [60, 60,60], [60, 60, 90], [30, 30, 30]])\n",
        "print(A)"
      ],
      "execution_count": 0,
      "outputs": [
        {
          "output_type": "stream",
          "text": [
            "[[90 60 90]\n",
            " [90 90 30]\n",
            " [60 60 60]\n",
            " [60 60 90]\n",
            " [30 30 30]]\n"
          ],
          "name": "stdout"
        }
      ]
    },
    {
      "cell_type": "markdown",
      "metadata": {
        "id": "6w0dtWoTLYcB",
        "colab_type": "text"
      },
      "source": [
        "Create PCA object"
      ]
    },
    {
      "cell_type": "code",
      "metadata": {
        "id": "XDowdhJcLBJ_",
        "colab_type": "code",
        "colab": {}
      },
      "source": [
        "pca=PCA(n_components=3)"
      ],
      "execution_count": 0,
      "outputs": []
    },
    {
      "cell_type": "markdown",
      "metadata": {
        "id": "QyGK7IKILfXR",
        "colab_type": "text"
      },
      "source": [
        "Fit on data:"
      ]
    },
    {
      "cell_type": "code",
      "metadata": {
        "id": "BreCPau4LjiS",
        "colab_type": "code",
        "outputId": "e878540e-5237-41df-8ec5-7d40c72cf56b",
        "colab": {
          "base_uri": "https://localhost:8080/",
          "height": 51
        }
      },
      "source": [
        "pca.fit(A)"
      ],
      "execution_count": 0,
      "outputs": [
        {
          "output_type": "execute_result",
          "data": {
            "text/plain": [
              "PCA(copy=True, iterated_power='auto', n_components=3, random_state=None,\n",
              "  svd_solver='auto', tol=0.0, whiten=False)"
            ]
          },
          "metadata": {
            "tags": []
          },
          "execution_count": 78
        }
      ]
    },
    {
      "cell_type": "markdown",
      "metadata": {
        "id": "7dG9YT7zLsNJ",
        "colab_type": "text"
      },
      "source": [
        "Get values (meaning see example below):"
      ]
    },
    {
      "cell_type": "code",
      "metadata": {
        "id": "RmYof0HILqoJ",
        "colab_type": "code",
        "outputId": "98c349c1-38be-4ab6-d6e1-0f025775ff9c",
        "colab": {
          "base_uri": "https://localhost:8080/",
          "height": 85
        }
      },
      "source": [
        "print(pca.components_) # number of components to keep\n",
        "print()\n",
        "print(pca.explained_variance_)  # The amount of variance explained by each of the selected components."
      ],
      "execution_count": 0,
      "outputs": [
        {
          "output_type": "stream",
          "text": [
            "[[-0.94446029 -0.32862557]\n",
            " [-0.32862557  0.94446029]]\n",
            "\n",
            "[0.7625315 0.0184779]\n"
          ],
          "name": "stdout"
        }
      ]
    },
    {
      "cell_type": "markdown",
      "metadata": {
        "id": "5UNHGdhBJFdS",
        "colab_type": "text"
      },
      "source": [
        " Transform data"
      ]
    },
    {
      "cell_type": "code",
      "metadata": {
        "id": "fxJPz6yWMBVp",
        "colab_type": "code",
        "outputId": "0608e85b-8c43-4e29-ef13-8eef8bfba20a",
        "colab": {
          "base_uri": "https://localhost:8080/",
          "height": 102
        }
      },
      "source": [
        "B = pca.transform(A)\n",
        "print(B)"
      ],
      "execution_count": 0,
      "outputs": [
        {
          "output_type": "stream",
          "text": [
            "[[-34.37098481 -13.66927088  10.3820247 ]\n",
            " [ -9.98345733  47.68820559  -1.47160698]\n",
            " [  3.93481353  -2.31599277  -3.89273939]\n",
            " [-14.69691716 -25.24923474  -9.08167225]\n",
            " [ 55.11654576  -6.45370719   4.06399392]]\n"
          ],
          "name": "stdout"
        }
      ]
    },
    {
      "cell_type": "markdown",
      "metadata": {
        "id": "hXVfAZD7ZDqa",
        "colab_type": "text"
      },
      "source": [
        "## More usefull example\n",
        "\n"
      ]
    },
    {
      "cell_type": "markdown",
      "metadata": {
        "id": "wpr7VoaBifxI",
        "colab_type": "text"
      },
      "source": [
        "**Credit goes to:** Jake VanderPlas\n",
        "\n",
        "The Jupyter notebook version of the Python Data Science Handbook  is available on GitHub. If you find this content useful, please consider supporting the work by buying the book!"
      ]
    },
    {
      "cell_type": "code",
      "metadata": {
        "id": "UNP5Ud4BZMur",
        "colab_type": "code",
        "outputId": "c11f595c-a0ff-49f2-b64a-0bd474ceacbb",
        "colab": {
          "base_uri": "https://localhost:8080/",
          "height": 274
        }
      },
      "source": [
        "rng = np.random.RandomState(1)\n",
        "X = np.dot(rng.rand(2, 2), rng.randn(2, 200)).T\n",
        "plt.scatter(X[:, 0], X[:, 1])\n",
        "plt.axis('equal');"
      ],
      "execution_count": 0,
      "outputs": [
        {
          "output_type": "display_data",
          "data": {
            "image/png": "[encoded data removed]",
            "text/plain": [
              "<Figure size 432x288 with 1 Axes>"
            ]
          },
          "metadata": {
            "tags": []
          }
        }
      ]
    },
    {
      "cell_type": "markdown",
      "metadata": {
        "id": "7A49mryMbL6X",
        "colab_type": "text"
      },
      "source": [
        "Fit matrix"
      ]
    },
    {
      "cell_type": "code",
      "metadata": {
        "id": "Bh9E5IzwZYMB",
        "colab_type": "code",
        "outputId": "ccefa5c5-0d26-4465-f2c3-0b8f0732f196",
        "colab": {
          "base_uri": "https://localhost:8080/",
          "height": 51
        }
      },
      "source": [
        "pca = PCA(n_components=2)\n",
        "pca.fit(X)"
      ],
      "execution_count": 0,
      "outputs": [
        {
          "output_type": "execute_result",
          "data": {
            "text/plain": [
              "PCA(copy=True, iterated_power='auto', n_components=2, random_state=None,\n",
              "  svd_solver='auto', tol=0.0, whiten=False)"
            ]
          },
          "metadata": {
            "tags": []
          },
          "execution_count": 18
        }
      ]
    },
    {
      "cell_type": "markdown",
      "metadata": {
        "id": "-_25-TE9bRce",
        "colab_type": "text"
      },
      "source": [
        "Get values:"
      ]
    },
    {
      "cell_type": "code",
      "metadata": {
        "id": "Bp5dOmHgZgOz",
        "colab_type": "code",
        "outputId": "95215703-8a1f-4d06-a166-b25743d08efd",
        "colab": {
          "base_uri": "https://localhost:8080/",
          "height": 51
        }
      },
      "source": [
        "print(pca.components_)"
      ],
      "execution_count": 0,
      "outputs": [
        {
          "output_type": "stream",
          "text": [
            "[[-0.94446029 -0.32862557]\n",
            " [-0.32862557  0.94446029]]\n"
          ],
          "name": "stdout"
        }
      ]
    },
    {
      "cell_type": "code",
      "metadata": {
        "id": "uRdUM9hLZnnC",
        "colab_type": "code",
        "outputId": "590870ae-c2ef-46a9-87fa-1272e0ec1f85",
        "colab": {
          "base_uri": "https://localhost:8080/",
          "height": 34
        }
      },
      "source": [
        "print(pca.explained_variance_)"
      ],
      "execution_count": 0,
      "outputs": [
        {
          "output_type": "stream",
          "text": [
            "[0.7625315 0.0184779]\n"
          ],
          "name": "stdout"
        }
      ]
    },
    {
      "cell_type": "markdown",
      "metadata": {
        "id": "V_cvNSh2bZhA",
        "colab_type": "text"
      },
      "source": [
        "See what these numbers mean:\n",
        "\n",
        "\n",
        "*  \"components\" defines the direction of the vector\n",
        "*   \"explained variance\" defines the squared-length of the vector\n",
        "\n",
        "**Note:** length of the vector is an indication of how \"important\" that axis is in describing the distribution of the data —more precisely, it is a measure of the variance of the data when projected onto that axis\n",
        "\n"
      ]
    },
    {
      "cell_type": "code",
      "metadata": {
        "id": "zGXUxoSUZqqD",
        "colab_type": "code",
        "outputId": "8005fdaf-c9ca-4dd9-a423-20e8b1a648d2",
        "colab": {
          "base_uri": "https://localhost:8080/",
          "height": 274
        }
      },
      "source": [
        "def draw_vector(v0, v1, ax=None):\n",
        "    ax = ax or plt.gca()\n",
        "    arrowprops=dict(arrowstyle='->',\n",
        "                    linewidth=2,\n",
        "                    shrinkA=0, shrinkB=0)\n",
        "    ax.annotate('', v1, v0, arrowprops=arrowprops)\n",
        "\n",
        "# plot data\n",
        "plt.scatter(X[:, 0], X[:, 1], alpha=0.2)\n",
        "for length, vector in zip(pca.explained_variance_, pca.components_):\n",
        "    v = vector * 3 * np.sqrt(length)\n",
        "    draw_vector(pca.mean_, pca.mean_ + v)\n",
        "plt.axis('equal');"
      ],
      "execution_count": 0,
      "outputs": [
        {
          "output_type": "display_data",
          "data": {
            "image/png": "[encoded data removed]",
            "text/plain": [
              "<Figure size 432x288 with 1 Axes>"
            ]
          },
          "metadata": {
            "tags": []
          }
        }
      ]
    },
    {
      "cell_type": "markdown",
      "metadata": {
        "id": "Ea1ZrLSRcI5n",
        "colab_type": "text"
      },
      "source": [
        "The projection of each data point onto the principal axes are the **\"principal components\"** of the data."
      ]
    },
    {
      "cell_type": "code",
      "metadata": {
        "id": "iY0Rdb_jZtci",
        "colab_type": "code",
        "outputId": "c7f42f57-a38c-42f0-b590-2a70e9603ba2",
        "colab": {
          "base_uri": "https://localhost:8080/",
          "height": 495
        }
      },
      "source": [
        "rng = np.random.RandomState(1)\n",
        "X = np.dot(rng.rand(2, 2), rng.randn(2, 200)).T\n",
        "pca = PCA(n_components=2, whiten=True)\n",
        "pca.fit(X)\n",
        "\n",
        "fig, ax = plt.subplots(1, 2, figsize=(16, 6))\n",
        "fig.subplots_adjust(left=0.0625, right=0.95, wspace=0.1)\n",
        "\n",
        "# plot data\n",
        "ax[0].scatter(X[:, 0], X[:, 1], alpha=0.2)\n",
        "for length, vector in zip(pca.explained_variance_, pca.components_):\n",
        "    v = vector * 3 * np.sqrt(length)\n",
        "    draw_vector(pca.mean_, pca.mean_ + v, ax=ax[0])\n",
        "ax[0].axis('equal');\n",
        "ax[0].set(xlabel='x', ylabel='y', title='input')\n",
        "\n",
        "# plot principal components\n",
        "X_pca = pca.transform(X)\n",
        "ax[1].scatter(X_pca[:, 0], X_pca[:, 1], alpha=0.2)\n",
        "draw_vector([0, 0], [0, 3], ax=ax[1])\n",
        "draw_vector([0, 0], [3, 0], ax=ax[1])\n",
        "ax[1].axis('equal')\n",
        "ax[1].set(xlabel='component 1', ylabel='component 2',\n",
        "          title='principal components',\n",
        "          xlim=(-5, 5), ylim=(-3, 3.1))\n",
        "\n"
      ],
      "execution_count": 0,
      "outputs": [
        {
          "output_type": "execute_result",
          "data": {
            "text/plain": [
              "[(-3, 3.1),\n",
              " Text(0, 0.5, 'component 2'),\n",
              " (-5, 5),\n",
              " Text(0.5, 0, 'component 1'),\n",
              " Text(0.5, 1.0, 'principal components')]"
            ]
          },
          "metadata": {
            "tags": []
          },
          "execution_count": 24
        },
        {
          "output_type": "display_data",
          "data": {
            "image/png": "[encoded data removed]",
            "text/plain": [
              "<Figure size 1152x432 with 2 Axes>"
            ]
          },
          "metadata": {
            "tags": []
          }
        }
      ]
    },
    {
      "cell_type": "markdown",
      "metadata": {
        "id": "d0eNg5GPfStX",
        "colab_type": "text"
      },
      "source": [
        "## PCA as dimensionality reduction\n",
        "\n"
      ]
    },
    {
      "cell_type": "markdown",
      "metadata": {
        "id": "j8KzsFyiikP3",
        "colab_type": "text"
      },
      "source": [
        "**Credit goes to:** Jake VanderPlas\n",
        "\n",
        "The Jupyter notebook version of the Python Data Science Handbook  is available on GitHub. If you find this content useful, please consider supporting the work by buying the book!"
      ]
    },
    {
      "cell_type": "code",
      "metadata": {
        "id": "u42Udv8Dei4f",
        "colab_type": "code",
        "outputId": "1ef89463-5017-497d-ebba-e72d40915fbb",
        "colab": {
          "base_uri": "https://localhost:8080/",
          "height": 51
        }
      },
      "source": [
        "pca = PCA(n_components=1)\n",
        "pca.fit(X)\n",
        "X_pca = pca.transform(X)\n",
        "print(\"original shape:   \", X.shape)\n",
        "print(\"transformed shape:\", X_pca.shape)"
      ],
      "execution_count": 0,
      "outputs": [
        {
          "output_type": "stream",
          "text": [
            "original shape:    (200, 2)\n",
            "transformed shape: (200, 1)\n"
          ],
          "name": "stdout"
        }
      ]
    },
    {
      "cell_type": "markdown",
      "metadata": {
        "id": "5Z_z-WXcfhOo",
        "colab_type": "text"
      },
      "source": [
        "The transformed data has been reduced to a single dimension. \n",
        "\n",
        "Plot reduced data it along with the original data:"
      ]
    },
    {
      "cell_type": "code",
      "metadata": {
        "id": "GJyJCQSDfXmw",
        "colab_type": "code",
        "outputId": "e7a1e2e9-67b7-4374-feda-cf61473930cc",
        "colab": {
          "base_uri": "https://localhost:8080/",
          "height": 274
        }
      },
      "source": [
        "X_new = pca.inverse_transform(X_pca)\n",
        "plt.scatter(X[:, 0], X[:, 1], alpha=0.2)\n",
        "plt.scatter(X_new[:, 0], X_new[:, 1], alpha=0.8)\n",
        "plt.axis('equal');"
      ],
      "execution_count": 0,
      "outputs": [
        {
          "output_type": "display_data",
          "data": {
            "image/png": "[encoded data removed]",
            "text/plain": [
              "<Figure size 432x288 with 1 Axes>"
            ]
          },
          "metadata": {
            "tags": []
          }
        }
      ]
    },
    {
      "cell_type": "markdown",
      "metadata": {
        "id": "0jefQrMuf9YE",
        "colab_type": "text"
      },
      "source": [
        "\n",
        "\n",
        "*   Light points: original data\n",
        "*   Orange points: projected data\n",
        "\n",
        "\n",
        "Dimensionality reduction --> the information along the least important principal axis or axes is **removed**, leaving only the component(s) of the data with the **highest variance**."
      ]
    },
    {
      "cell_type": "code",
      "metadata": {
        "id": "aMxKJV2GfsWi",
        "colab_type": "code",
        "colab": {}
      },
      "source": [
        ""
      ],
      "execution_count": 0,
      "outputs": []
    }
  ]
}